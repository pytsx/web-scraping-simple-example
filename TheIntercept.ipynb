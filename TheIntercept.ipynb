{
 "cells": [
  {
   "cell_type": "code",
   "execution_count": 5,
   "id": "991d08fa",
   "metadata": {},
   "outputs": [],
   "source": [
    "class Post:\n",
    "    def __init__(self):\n",
    "        self.title = ''\n",
    "        self.subtitle = ''\n",
    "        self.author = {}\n",
    "        self.data = ''\n",
    "        self.area = ''\n",
    "    def set_post(self, area, title, subtitle, author, link_author, data):\n",
    "        self.title = title\n",
    "        self.subtitle = subtitle\n",
    "        self.author = {'name': author, 'link': link_author}\n",
    "        self.data = data\n",
    "        self.area = area"
   ]
  },
  {
   "cell_type": "code",
   "execution_count": 7,
   "id": "57a85fcc",
   "metadata": {},
   "outputs": [],
   "source": [
    "from selenium import webdriver\n",
    "from selenium.webdriver.common.by import By\n",
    "import json\n",
    "from time import sleep\n",
    "\n",
    "# Crie um objeto do driver do Chrome\n",
    "driver = webdriver.Chrome()\n",
    "posts = []\n",
    "\n",
    "for area in ['politics']:\n",
    "    post = Post()\n",
    "    driver.get(f\"https://theintercept.com/{area}/\")\n",
    "    # Rola a página até que o elemento esteja visível\n",
    "    \n",
    "    for i in range(3):\n",
    "        if i >= 1:\n",
    "            driver.execute_script(\"window.scrollTo(0, document.body.scrollHeight);\")\n",
    "            sleep(1)\n",
    "        driver.execute_script(\"window.scrollTo(0, document.body.scrollHeight);\")\n",
    "        for link in driver.find_elements('xpath', '//a[@class=\"data-SpecialPromoData-container\"]'):\n",
    "            posts.append({'link': link.get_attribute('href'), 'area': area})\n",
    "\n",
    "for content in posts:\n",
    "    \n",
    "    try:\n",
    "        driver.get(post['link'])\n",
    "        title = driver.find_element('xpath', '//*[@class=\"Post-title\"]').get_attribute('innerHTML')\n",
    "        subtitle = driver.find_element('xpath', '//*[@class=\"Post-excerpt\"]').get_attribute('innerHTML') \n",
    "        author = driver.find_element('xpath', '//*[@class=\"PostByline-link\"]').text\n",
    "        author_link = driver.find_element('xpath', '//*[@class=\"PostByline-link\"]').get_attribute('href')\n",
    "        data = driver.find_element('xpath', '//*[@class=\"PostByline-date\"]').text\n",
    "        # post['content'] = driver.find_element('xpath', '//*[@class=\"PostContent\"]').text\n",
    "    except:\n",
    "        continue\n",
    "\n",
    "with open('arquivo_6.json', 'w') as f:\n",
    "    json.dump(posts, f)\n",
    "\n",
    "\n",
    "# Feche o navegador\n",
    "driver.quit()"
   ]
  },
  {
   "cell_type": "code",
   "execution_count": null,
   "id": "b3638aba",
   "metadata": {},
   "outputs": [],
   "source": []
  },
  {
   "cell_type": "code",
   "execution_count": null,
   "id": "89f99732",
   "metadata": {},
   "outputs": [],
   "source": []
  },
  {
   "cell_type": "code",
   "execution_count": null,
   "id": "ccb7a16c",
   "metadata": {},
   "outputs": [],
   "source": []
  }
 ],
 "metadata": {
  "kernelspec": {
   "display_name": "Python 3 (ipykernel)",
   "language": "python",
   "name": "python3"
  },
  "language_info": {
   "codemirror_mode": {
    "name": "ipython",
    "version": 3
   },
   "file_extension": ".py",
   "mimetype": "text/x-python",
   "name": "python",
   "nbconvert_exporter": "python",
   "pygments_lexer": "ipython3",
   "version": "3.9.13"
  }
 },
 "nbformat": 4,
 "nbformat_minor": 5
}
